{
 "cells": [
  {
   "cell_type": "code",
   "execution_count": null,
   "metadata": {},
   "outputs": [],
   "source": [
    "from ucimlrepo import fetch_ucirepo\n",
    "from sklearn.preprocessing import LabelEncoder\n",
    "import matplotlib.pyplot as plt\n",
    "\n",
    "import numpy as np\n",
    "import tensorflow as tf\n",
    "from tensorflow.keras.models import Sequential\n",
    "from tensorflow.keras.layers import Dense\n",
    "from tensorflow.keras.activations import linear, relu"
   ]
  },
  {
   "cell_type": "code",
   "execution_count": null,
   "metadata": {},
   "outputs": [],
   "source": [
    "# fetch dataset \n",
    "iris = fetch_ucirepo(id=53) \n",
    "  \n",
    "# data (as pandas dataframes) \n",
    "X = iris.data.features.values\n",
    "y = iris.data.targets.values\n",
    "  \n",
    "# metadata \n",
    "print(iris.metadata) \n",
    "  \n",
    "# variable information \n",
    "print(iris.variables)"
   ]
  },
  {
   "cell_type": "code",
   "execution_count": null,
   "metadata": {},
   "outputs": [],
   "source": [
    "# Convert X\n",
    "X = np.array(X)\n",
    "\n",
    "# Convert y from string labels to numerical labels (0, 1, 2)\n",
    "label_encoder = LabelEncoder()\n",
    "y = label_encoder.fit_transform(y)\n",
    "\n",
    "# Shape of X and y\n",
    "print(f\"Shape of X: {X.shape}\") # (150, 4) - 150 samples, 4 features\n",
    "print(f\"Shape of y: {y.shape}\") # (150,) - 150 samples, 1 label per sample\n",
    "\n",
    "# Data type of X and y\n",
    "print(f\"Data type of X: {X.dtype}\") # float64\n",
    "print(f\"Data type of y: {y.dtype}\") # int64\n",
    "\n",
    "# Print the first 10 rows of X and y\n",
    "print(f\"First 10 rows of X: {X[:10]}\")\n",
    "print(f\"First 10 rows of y: {y[:10]}\")\n",
    "\n",
    "# Shape of X and y\n",
    "print(f\"Shape of X: {X.shape}\") # (150, 4) - 150 samples, 4 features\n",
    "print(f\"Shape of y: {y.shape}\") # (150,) - 150 samples, 1 label per sample\n",
    "\n",
    "# Data type of X and y\n",
    "print(f\"Data type of X: {X.dtype}\") # float64\n",
    "print(f\"Data type of y: {y.dtype}\") # int64\n",
    "\n",
    "# Print the first 10 rows of X and y\n",
    "print(f\"First 10 rows of X: {X[:10]}\")\n",
    "print(f\"First 10 rows of y: {y[:10]}\")"
   ]
  },
  {
   "cell_type": "code",
   "execution_count": null,
   "metadata": {},
   "outputs": [],
   "source": [
    "tf.random.set_seed(1234) # for consistent results\n",
    "model = Sequential(\n",
    "    [\n",
    "        tf.keras.layers.InputLayer((4,)),\n",
    "        tf.keras.layers.Dense(8, activation=\"relu\", name=\"L1\"),\n",
    "        tf.keras.layers.Dense(3, activation=\"linear\", name=\"L2\")\n",
    "    ], name = \"iris_model\" \n",
    ")\n",
    "model.summary()"
   ]
  },
  {
   "cell_type": "code",
   "execution_count": null,
   "metadata": {},
   "outputs": [],
   "source": [
    "[layer1, layer2] = model.layers"
   ]
  },
  {
   "cell_type": "code",
   "execution_count": null,
   "metadata": {},
   "outputs": [],
   "source": [
    "W1,b1 = layer1.get_weights()\n",
    "W2,b2 = layer2.get_weights()\n",
    "print(f\"W1 shape = {W1.shape}, b1 shape = {b1.shape}\")\n",
    "print(f\"W2 shape = {W2.shape}, b2 shape = {b2.shape}\")"
   ]
  },
  {
   "cell_type": "code",
   "execution_count": null,
   "metadata": {},
   "outputs": [],
   "source": [
    "model.compile(\n",
    "    loss=tf.keras.losses.SparseCategoricalCrossentropy(from_logits=True),\n",
    "    optimizer=tf.keras.optimizers.Adam(learning_rate=0.001),\n",
    ")"
   ]
  },
  {
   "cell_type": "code",
   "execution_count": null,
   "metadata": {},
   "outputs": [],
   "source": [
    "history = model.fit(X, y, epochs=100)"
   ]
  },
  {
   "cell_type": "code",
   "execution_count": null,
   "metadata": {},
   "outputs": [],
   "source": [
    "# Plot the training loss\n",
    "plt.plot(history.history['loss'])\n",
    "plt.title('Model Loss')\n",
    "plt.ylabel('Loss')\n",
    "plt.xlabel('Epoch')\n",
    "plt.show()"
   ]
  },
  {
   "cell_type": "code",
   "execution_count": null,
   "metadata": {},
   "outputs": [],
   "source": [
    "x_sample = X[100]\n",
    "y_true = y[100]\n",
    "\n",
    "prediction = model.predict(x_sample.reshape(1, -1))\n",
    "prediction_p = tf.nn.softmax(prediction)\n",
    "print(f\"Predicting x_sample: {prediction}\")\n",
    "print(f\"Predicting x_sample. Probability vector: {prediction_p}\")\n",
    "print(f\"Predicted class: {np.argmax(prediction)}\")\n",
    "print(f\"Predicted class (Probability): {np.argmax(prediction_p)}\")\n",
    "print(f\"True class: {y_true}\")"
   ]
  },
  {
   "cell_type": "code",
   "execution_count": null,
   "metadata": {},
   "outputs": [],
   "source": [
    "# Convert numerical prediction back to original label\n",
    "prediction_label = label_encoder.inverse_transform(np.argmax(prediction, axis=1))\n",
    "print(f\"Prediction label: {prediction_label[0]}\")"
   ]
  },
  {
   "cell_type": "code",
   "execution_count": null,
   "metadata": {},
   "outputs": [],
   "source": [
    "from sklearn.metrics import accuracy_score\n",
    "accuracy = accuracy_score(y, model.predict(X).argmax(axis=1))\n",
    "print(f\"Model Accuracy: {accuracy * 100:.2f}%\")"
   ]
  }
 ],
 "metadata": {
  "language_info": {
   "name": "python"
  }
 },
 "nbformat": 4,
 "nbformat_minor": 2
}
