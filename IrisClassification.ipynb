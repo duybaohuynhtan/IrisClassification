{
 "cells": [
  {
   "cell_type": "code",
   "execution_count": null,
   "metadata": {},
   "outputs": [],
   "source": [
    "from ucimlrepo import fetch_ucirepo \n",
    "import pandas as pd\n",
    "\n",
    "import numpy as np\n",
    "import tensorflow as tf\n",
    "from tensorflow.keras.models import Sequential\n",
    "from tensorflow.keras.layers import Dense\n",
    "from tensorflow.keras.activations import linear, relu, sigmoid"
   ]
  },
  {
   "cell_type": "code",
   "execution_count": null,
   "metadata": {},
   "outputs": [],
   "source": [
    "# fetch dataset \n",
    "iris = fetch_ucirepo(id=53) \n",
    "  \n",
    "# data (as pandas dataframes) \n",
    "X = iris.data.features \n",
    "y = iris.data.targets \n",
    "  \n",
    "# metadata \n",
    "print(iris.metadata) \n",
    "  \n",
    "# variable information \n",
    "print(iris.variables)"
   ]
  },
  {
   "cell_type": "code",
   "execution_count": null,
   "metadata": {},
   "outputs": [],
   "source": [
    "# Convert X and y to numpy arrays\n",
    "X = np.array(X)\n",
    "y = np.array(y)\n",
    "\n",
    "# Shape of X and y\n",
    "print(f\"Shape of X: {X.shape}\") # (150, 4) - 150 samples, 4 features\n",
    "print(f\"Shape of y: {y.shape}\") # (150,) - 150 samples, 1 label per sample\n",
    "\n",
    "# Data type of X and y\n",
    "print(f\"Data type of X: {X.dtype}\") # float64\n",
    "print(f\"Data type of y: {y.dtype}\") # int64\n",
    "\n",
    "# Print the first 10 rows of X and y\n",
    "print(f\"First 10 rows of X: {X[:10]}\")\n",
    "print(f\"First 10 rows of y: {y[:10]}\")"
   ]
  }
 ],
 "metadata": {
  "language_info": {
   "name": "python"
  }
 },
 "nbformat": 4,
 "nbformat_minor": 2
}
