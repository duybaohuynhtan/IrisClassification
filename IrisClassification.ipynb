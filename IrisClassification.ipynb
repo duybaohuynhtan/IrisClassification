{
 "cells": [
  {
   "cell_type": "code",
   "execution_count": null,
   "metadata": {},
   "outputs": [],
   "source": [
    "from ucimlrepo import fetch_ucirepo \n",
    "import pandas as pd\n",
    "\n",
    "import numpy as np\n",
    "import tensorflow as tf\n",
    "from tensorflow.keras.models import Sequential\n",
    "from tensorflow.keras.layers import Dense\n",
    "from tensorflow.keras.activations import linear, relu, sigmoid"
   ]
  },
  {
   "cell_type": "code",
   "execution_count": null,
   "metadata": {},
   "outputs": [],
   "source": [
    "# fetch dataset \n",
    "iris = fetch_ucirepo(id=53) \n",
    "  \n",
    "# data (as pandas dataframes) \n",
    "X = iris.data.features \n",
    "y = iris.data.targets \n",
    "  \n",
    "# metadata \n",
    "print(iris.metadata) \n",
    "  \n",
    "# variable information \n",
    "print(iris.variables)\n",
    "\n",
    "# Shape of X (number of rows, number of columns)\n",
    "print(\"Shape of X:\", X.shape) \n",
    "\n",
    "# Data type of X\n",
    "print(\"\\nData type of X:\", type(X))\n",
    "\n",
    "# First 10 rows of X\n",
    "print(\"\\nFirst 10 rows of X:\")\n",
    "print(X.head(10)) \n",
    "\n",
    "# Shape of Y\n",
    "print(\"\\nShape of y:\", y.shape)\n",
    "\n",
    "# Data type of Y\n",
    "print(\"\\nData type of y:\", type(y))\n",
    "\n",
    "# First 10 row of Y\n",
    "print(\"\\nFirst 10 data points of y:\")\n",
    "print(y.head(10))"
   ]
  }
 ],
 "metadata": {
  "language_info": {
   "name": "python"
  }
 },
 "nbformat": 4,
 "nbformat_minor": 2
}
